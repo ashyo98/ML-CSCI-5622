{
 "cells": [
  {
   "cell_type": "code",
   "execution_count": 1,
   "metadata": {},
   "outputs": [],
   "source": [
    "import numpy as np\n",
    "import matplotlib.pyplot as plt\n",
    "import tests\n",
    "import data"
   ]
  },
  {
   "cell_type": "code",
   "execution_count": 2,
   "metadata": {},
   "outputs": [
    {
     "data": {
      "text/plain": [
       "(280, 2)"
      ]
     },
     "execution_count": 2,
     "metadata": {},
     "output_type": "execute_result"
    }
   ],
   "source": [
    "multi_blobs = data.DataBlobs(centers=6, std=1.3)\n",
    "X_train = multi_blobs.X_train\n",
    "X_train.shape"
   ]
  },
  {
   "cell_type": "code",
   "execution_count": 5,
   "metadata": {},
   "outputs": [
    {
     "data": {
      "text/plain": [
       "array([[ 5.27147146,  4.81503802],\n",
       "       [-4.1295825 , -1.41974473],\n",
       "       [ 1.22273916,  9.04199806],\n",
       "       [-4.58186943, 10.17910891],\n",
       "       [-1.47840337,  8.31414016],\n",
       "       [-5.55005333, -1.75335845]])"
      ]
     },
     "execution_count": 5,
     "metadata": {},
     "output_type": "execute_result"
    }
   ],
   "source": [
    "random_ids = np.random.permutation(X_train.shape[0])\n",
    "# random_ids\n",
    "centroids = X_train[random_ids[:6]]\n",
    "centroids"
   ]
  },
  {
   "cell_type": "code",
   "execution_count": 8,
   "metadata": {},
   "outputs": [
    {
     "data": {
      "text/plain": [
       "array([[ -8.70751397,  -6.59190192],\n",
       "       [ -6.76891744,   3.14391514],\n",
       "       [ -2.27068275, -11.36355576],\n",
       "       [ -7.37814884,  -8.02782873],\n",
       "       [ -5.16366774,   2.28300031]])"
      ]
     },
     "execution_count": 8,
     "metadata": {},
     "output_type": "execute_result"
    }
   ],
   "source": [
    "(X_train - centroids[0,:])[:5]"
   ]
  },
  {
   "cell_type": "code",
   "execution_count": 16,
   "metadata": {},
   "outputs": [
    {
     "data": {
      "text/plain": [
       "array([[ -8.70751397,  -6.59190192],\n",
       "       [ -6.76891744,   3.14391514],\n",
       "       [ -2.27068275, -11.36355576],\n",
       "       [ -7.37814884,  -8.02782873],\n",
       "       [ -5.16366774,   2.28300031]])"
      ]
     },
     "execution_count": 16,
     "metadata": {},
     "output_type": "execute_result"
    }
   ],
   "source": [
    "(X_train - centroids[0])[:5]"
   ]
  },
  {
   "cell_type": "code",
   "execution_count": 9,
   "metadata": {},
   "outputs": [
    {
     "data": {
      "text/plain": [
       "(280, 6)"
      ]
     },
     "execution_count": 9,
     "metadata": {},
     "output_type": "execute_result"
    }
   ],
   "source": [
    "distances_matrix = np.zeros((X_train.shape[0], 6))\n",
    "for k in range(6):\n",
    "    distances_matrix[:,k] = np.linalg.norm(X_train - centroids[k, :], axis=1)\n",
    "distances_matrix.shape"
   ]
  },
  {
   "cell_type": "code",
   "execution_count": 15,
   "metadata": {},
   "outputs": [
    {
     "name": "stdout",
     "output_type": "stream",
     "text": [
      "[ 5.1289879  11.46933567  0.72773417  6.48584711  3.15767344 12.52063067]\n"
     ]
    },
    {
     "data": {
      "text/plain": [
       "(280,)"
      ]
     },
     "execution_count": 15,
     "metadata": {},
     "output_type": "execute_result"
    }
   ],
   "source": [
    "print(distances_matrix[174])\n",
    "# np.argmin(distances_matrix[174])\n",
    "np.argmin(distances_matrix, axis=1).shape"
   ]
  },
  {
   "cell_type": "code",
   "execution_count": null,
   "metadata": {},
   "outputs": [],
   "source": []
  }
 ],
 "metadata": {
  "kernelspec": {
   "display_name": "Python 3.9.6 64-bit",
   "language": "python",
   "name": "python3"
  },
  "language_info": {
   "codemirror_mode": {
    "name": "ipython",
    "version": 3
   },
   "file_extension": ".py",
   "mimetype": "text/x-python",
   "name": "python",
   "nbconvert_exporter": "python",
   "pygments_lexer": "ipython3",
   "version": "3.9.6"
  },
  "orig_nbformat": 4,
  "vscode": {
   "interpreter": {
    "hash": "31f2aee4e71d21fbe5cf8b01ff0e069b9275f58929596ceb00d14d90e3e16cd6"
   }
  }
 },
 "nbformat": 4,
 "nbformat_minor": 2
}
