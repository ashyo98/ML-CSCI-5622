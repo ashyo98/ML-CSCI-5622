{
 "cells": [
  {
   "cell_type": "code",
   "execution_count": 1,
   "metadata": {},
   "outputs": [],
   "source": [
    "import numpy as np\n",
    "import matplotlib.pylab as plt\n",
    "import tests\n",
    "import data\n",
    "from sklearn.tree import DecisionTreeClassifier\n",
    "from sklearn.ensemble import RandomForestClassifier, BaggingClassifier, AdaBoostClassifier\n",
    "from sklearn.metrics import precision_score"
   ]
  },
  {
   "cell_type": "code",
   "execution_count": 2,
   "metadata": {},
   "outputs": [],
   "source": [
    "bike_sharing = data.BikeSharing()\n",
    "bike_sharing.y_train[np.where(bike_sharing.y_train < 2000)[0]] = 0\n",
    "bike_sharing.y_train[np.where((bike_sharing.y_train >= 2000) & (bike_sharing.y_train < 4000))[0]] = 1\n",
    "bike_sharing.y_train[np.where((bike_sharing.y_train >= 4000) & (bike_sharing.y_train < 6000))[0]] = 2\n",
    "bike_sharing.y_train[np.where(bike_sharing.y_train >= 6000)[0]] = 3\n",
    "\n",
    "bike_sharing.y_test[np.where(bike_sharing.y_test < 2000)[0]] = 0\n",
    "bike_sharing.y_test[np.where((bike_sharing.y_test >= 2000) & (bike_sharing.y_test < 4000))[0]] = 1\n",
    "bike_sharing.y_test[np.where((bike_sharing.y_test >= 4000) & (bike_sharing.y_test < 6000))[0]] = 2\n",
    "bike_sharing.y_test[np.where(bike_sharing.y_test >= 6000)[0]] = 3"
   ]
  },
  {
   "cell_type": "code",
   "execution_count": 4,
   "metadata": {},
   "outputs": [
    {
     "name": "stdout",
     "output_type": "stream",
     "text": [
      "bg accuracy:  0.54421768707483\n",
      "bg precision:  0.6163631768132063\n"
     ]
    }
   ],
   "source": [
    "bg = BaggingClassifier(base_estimator=DecisionTreeClassifier(max_depth=3, min_samples_leaf=0.1), n_estimators=10, max_samples=0.9, random_state=42)\n",
    "bg.fit(bike_sharing.X_train, bike_sharing.y_train)\n",
    "bg_y_pred = bg.predict(bike_sharing.X_test)\n",
    "print(\"bg accuracy: \", bg.score(bike_sharing.X_test, bike_sharing.y_test))\n",
    "print(\"bg precision: \", precision_score(bike_sharing.y_test, bg_y_pred, average='weighted', zero_division=1))"
   ]
  },
  {
   "cell_type": "code",
   "execution_count": 3,
   "metadata": {},
   "outputs": [
    {
     "name": "stdout",
     "output_type": "stream",
     "text": [
      "rf accuracy:  0.4897959183673469\n",
      "rf precision:  0.5386471745225773\n"
     ]
    }
   ],
   "source": [
    "rf = RandomForestClassifier(max_depth=3, min_samples_leaf=0.1, n_estimators=200, max_samples=0.7, max_features=0.1, random_state=42)\n",
    "rf.fit(bike_sharing.X_train, bike_sharing.y_train)\n",
    "rf_y_pred = rf.predict(bike_sharing.X_test)\n",
    "print(\"rf accuracy: \", rf.score(bike_sharing.X_test, bike_sharing.y_test))\n",
    "print(\"rf precision: \", precision_score(bike_sharing.y_test, rf_y_pred, average='weighted', zero_division=1))"
   ]
  },
  {
   "cell_type": "code",
   "execution_count": 5,
   "metadata": {},
   "outputs": [
    {
     "name": "stdout",
     "output_type": "stream",
     "text": [
      "ad accuracy:  0.5510204081632653\n",
      "ad precision:  0.6044868296969137\n"
     ]
    }
   ],
   "source": [
    "ad = AdaBoostClassifier(base_estimator=DecisionTreeClassifier(max_depth=3, min_samples_leaf=0.1), n_estimators=40)\n",
    "ad.fit(bike_sharing.X_train, bike_sharing.y_train)\n",
    "ad_y_pred = ad.predict(bike_sharing.X_test)\n",
    "print(\"ad accuracy: \", ad.score(bike_sharing.X_test, bike_sharing.y_test))\n",
    "print(\"ad precision: \", precision_score(bike_sharing.y_test, ad_y_pred, average='weighted', zero_division=1))"
   ]
  }
 ],
 "metadata": {
  "kernelspec": {
   "display_name": "Python 3.9.6 64-bit",
   "language": "python",
   "name": "python3"
  },
  "language_info": {
   "codemirror_mode": {
    "name": "ipython",
    "version": 3
   },
   "file_extension": ".py",
   "mimetype": "text/x-python",
   "name": "python",
   "nbconvert_exporter": "python",
   "pygments_lexer": "ipython3",
   "version": "3.9.6"
  },
  "orig_nbformat": 4,
  "vscode": {
   "interpreter": {
    "hash": "31f2aee4e71d21fbe5cf8b01ff0e069b9275f58929596ceb00d14d90e3e16cd6"
   }
  }
 },
 "nbformat": 4,
 "nbformat_minor": 2
}
